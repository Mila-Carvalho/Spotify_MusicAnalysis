{
 "cells": [
  {
   "cell_type": "code",
   "execution_count": 1,
   "metadata": {},
   "outputs": [
    {
     "name": "stdout",
     "output_type": "stream",
     "text": [
      "Requirement already satisfied: lyricsgenius in c:\\users\\rafae\\appdata\\local\\programs\\python\\python37-32\\lib\\site-packages (2.0.0)\n",
      "Requirement already satisfied: requests>=2.20.0 in c:\\users\\rafae\\appdata\\local\\programs\\python\\python37-32\\lib\\site-packages (from lyricsgenius) (2.24.0)\n",
      "Requirement already satisfied: beautifulsoup4==4.6.0 in c:\\users\\rafae\\appdata\\local\\programs\\python\\python37-32\\lib\\site-packages (from lyricsgenius) (4.6.0)\n",
      "Requirement already satisfied: urllib3!=1.25.0,!=1.25.1,<1.26,>=1.21.1 in c:\\users\\rafae\\appdata\\local\\programs\\python\\python37-32\\lib\\site-packages (from requests>=2.20.0->lyricsgenius) (1.25.10)\n",
      "Requirement already satisfied: idna<3,>=2.5 in c:\\users\\rafae\\appdata\\local\\programs\\python\\python37-32\\lib\\site-packages (from requests>=2.20.0->lyricsgenius) (2.10)\n",
      "Requirement already satisfied: chardet<4,>=3.0.2 in c:\\users\\rafae\\appdata\\local\\programs\\python\\python37-32\\lib\\site-packages (from requests>=2.20.0->lyricsgenius) (3.0.4)\n",
      "Requirement already satisfied: certifi>=2017.4.17 in c:\\users\\rafae\\appdata\\local\\programs\\python\\python37-32\\lib\\site-packages (from requests>=2.20.0->lyricsgenius) (2020.6.20)\n",
      "Note: you may need to restart the kernel to use updated packages.\n"
     ]
    },
    {
     "name": "stderr",
     "output_type": "stream",
     "text": [
      "WARNING: You are using pip version 20.1.1; however, version 20.2.3 is available.\n",
      "You should consider upgrading via the 'c:\\users\\rafae\\appdata\\local\\programs\\python\\python37-32\\python.exe -m pip install --upgrade pip' command.\n"
     ]
    }
   ],
   "source": [
    "pip install lyricsgenius"
   ]
  },
  {
   "cell_type": "code",
   "execution_count": 9,
   "metadata": {},
   "outputs": [],
   "source": [
    "import lyricsgenius as lg\n",
    "import json\n",
    "import pandas as pd\n",
    "from config import token_Genius"
   ]
  },
  {
   "cell_type": "code",
   "execution_count": 10,
   "metadata": {},
   "outputs": [],
   "source": [
    "genius_api = lg.Genius(token_Genius)"
   ]
  },
  {
   "cell_type": "code",
   "execution_count": 4,
   "metadata": {},
   "outputs": [
    {
     "name": "stdout",
     "output_type": "stream",
     "text": [
      "Searching for songs by Coldplay...\n",
      "\n",
      "Song 1: \"The Scientist\"\n",
      "Song 2: \"Viva la Vida\"\n",
      "Song 3: \"Fix You\"\n",
      "\n",
      "Reached user-specified song limit (3).\n",
      "Done. Found 3 songs.\n"
     ]
    }
   ],
   "source": [
    "artist = genius_api.search_artist('Coldplay', max_songs=3, sort='popularity')"
   ]
  },
  {
   "cell_type": "code",
   "execution_count": 5,
   "metadata": {},
   "outputs": [
    {
     "name": "stdout",
     "output_type": "stream",
     "text": [
      "Coldplay, 3 songs\n"
     ]
    }
   ],
   "source": [
    "print(artist)"
   ]
  },
  {
   "cell_type": "code",
   "execution_count": 6,
   "metadata": {},
   "outputs": [
    {
     "name": "stdout",
     "output_type": "stream",
     "text": [
      "Searching for \"The Scientist\"...\n",
      "Done.\n",
      "[Verse 1]\n",
      "Come up to meet you, tell you I'm sorry\n",
      "You don't know how lovely you are\n",
      "I had to find you, tell you I need you\n",
      "Tell you I set you apart\n",
      "Tell me your secrets, and ask me your questions\n",
      "Oh, let's go back to the start\n",
      "Running in circles, coming up tails\n",
      "Heads on a science apart\n",
      "\n",
      "[Chorus]\n",
      "Nobody said it was easy\n",
      "It's such a shame for us to part\n",
      "Nobody said it was easy\n",
      "No one ever said it would be this hard\n",
      "Oh, take me back to the start\n",
      "\n",
      "[Verse 2]\n",
      "I was just guessing at numbers and figures\n",
      "Pulling the puzzles apart\n",
      "Questions of science, science and progress\n",
      "Do not speak as loud as my heart\n",
      "Tell me you love me,\n",
      " \n",
      "come back and haunt me\n",
      "Oh, and I rush to the start\n",
      "Running in circles, chasing our tails\n",
      "Coming back as we are\n",
      "\n",
      "[Chorus]\n",
      "Nobody said it was easy\n",
      "Oh, it's such a shame for us to part\n",
      "Nobody said it was easy\n",
      "No one ever said it would be so hard\n",
      "I'm going back to the start\n",
      "\n",
      "[Outro]\n",
      "Oh-ooh ooh-ooh-ooh-ooh\n",
      "Ah-ooh ooh-ooh-ooh-ooh\n",
      "Oh-ooh ooh-ooh-ooh-ooh\n",
      "Oh-ooh ooh-ooh-ooh-ooh\n"
     ]
    }
   ],
   "source": [
    "song_1 = genius_api.search_song('The Scientist')\n",
    "print(song_1.lyrics)\n",
    "# type(song_1)"
   ]
  },
  {
   "cell_type": "code",
   "execution_count": 7,
   "metadata": {},
   "outputs": [
    {
     "name": "stdout",
     "output_type": "stream",
     "text": [
      "Wrote The Scientist to lyrics_coldplay_thescientist.json.\n"
     ]
    }
   ],
   "source": [
    "song1_json = song_1.save_lyrics()"
   ]
  },
  {
   "cell_type": "code",
   "execution_count": 8,
   "metadata": {},
   "outputs": [
    {
     "ename": "TypeError",
     "evalue": "'module' object is not callable",
     "output_type": "error",
     "traceback": [
      "\u001b[1;31m---------------------------------------------------------------------------\u001b[0m",
      "\u001b[1;31mTypeError\u001b[0m                                 Traceback (most recent call last)",
      "\u001b[1;32m<ipython-input-8-bfa0dfaa6114>\u001b[0m in \u001b[0;36m<module>\u001b[1;34m\u001b[0m\n\u001b[1;32m----> 1\u001b[1;33m \u001b[0mjson\u001b[0m\u001b[1;33m(\u001b[0m\u001b[0msong1_json\u001b[0m\u001b[1;33m)\u001b[0m\u001b[1;33m\u001b[0m\u001b[1;33m\u001b[0m\u001b[0m\n\u001b[0m",
      "\u001b[1;31mTypeError\u001b[0m: 'module' object is not callable"
     ]
    }
   ],
   "source": [
    "json(song1_json)"
   ]
  },
  {
   "cell_type": "code",
   "execution_count": null,
   "metadata": {},
   "outputs": [],
   "source": [
    "type(song1_json)"
   ]
  },
  {
   "cell_type": "code",
   "execution_count": null,
   "metadata": {},
   "outputs": [],
   "source": [
    "song = genius_api.search_song('A Sky Full of Stars', artist.name)"
   ]
  },
  {
   "cell_type": "code",
   "execution_count": null,
   "metadata": {},
   "outputs": [],
   "source": [
    "artist.add_song(song)\n",
    "print(artist)"
   ]
  },
  {
   "cell_type": "code",
   "execution_count": null,
   "metadata": {},
   "outputs": [],
   "source": [
    "print(artist.songs[3])"
   ]
  },
  {
   "cell_type": "code",
   "execution_count": null,
   "metadata": {},
   "outputs": [],
   "source": [
    "artist.save_lyrics()"
   ]
  }
 ],
 "metadata": {
  "kernelspec": {
   "display_name": "Python 3",
   "language": "python",
   "name": "python3"
  },
  "language_info": {
   "codemirror_mode": {
    "name": "ipython",
    "version": 3
   },
   "file_extension": ".py",
   "mimetype": "text/x-python",
   "name": "python",
   "nbconvert_exporter": "python",
   "pygments_lexer": "ipython3",
   "version": "3.7.1"
  }
 },
 "nbformat": 4,
 "nbformat_minor": 4
}
